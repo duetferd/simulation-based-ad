{
 "cells": [
  {
   "cell_type": "code",
   "execution_count": null,
   "metadata": {
    "ExecuteTime": {
     "end_time": "2023-08-15T08:55:21.420698300Z",
     "start_time": "2023-08-15T08:55:21.418633100Z"
    },
    "collapsed": false,
    "jupyter": {
     "outputs_hidden": false
    }
   },
   "outputs": [],
   "source": [
    "#from google.colab import drive\n",
    "#drive.mount('/content/drive')\n",
    "\n",
    "import sys\n",
    "\n",
    "#sys.path.insert(1, \"C:\\Development\\Task_2_3\\task-02-vision-centric-ad\\src\")"
   ]
  },
  {
   "cell_type": "code",
   "execution_count": null,
   "metadata": {
    "collapsed": false,
    "jupyter": {
     "outputs_hidden": false
    }
   },
   "outputs": [],
   "source": [
    "# Note: Restart the kernel after installing the requirements.\n",
    "# %pip install -r \"../../requirements.txt\"\n",
    "#%pip install -r \"drive/MyDrive/Colab Notebooks/sbad/task-02-vision-centric-ad/requirements.txt\""
   ]
  },
  {
   "cell_type": "code",
   "execution_count": null,
   "metadata": {
    "collapsed": false,
    "jupyter": {
     "outputs_hidden": false
    }
   },
   "outputs": [],
   "source": [
    "print(\"If you have import issues, try marking the src folder as sources root in PyCharm, or add it to the path in this cell!\")\n",
    "import sys\n",
    "# sys.path.insert(1, r\"C:\\programming_tasks\\simulation_based_ad\\testing_task3\\src\")"
   ]
  },
  {
   "cell_type": "code",
   "execution_count": null,
   "metadata": {
    "ExecuteTime": {
     "end_time": "2023-08-15T08:55:23.786200Z",
     "start_time": "2023-08-15T08:55:21.423988Z"
    },
    "collapsed": false,
    "jupyter": {
     "outputs_hidden": false
    }
   },
   "outputs": [],
   "source": [
    "import torch\n",
    "from torch.utils.data import DataLoader\n",
    "import pytorch_lightning as pl\n",
    "from importlib import reload\n",
    "from data_handling.track_dataset import TrackDataset\n",
    "from data_handling.track_data_element import TrackDataElement\n",
    "from ai.model_types import ModelType\n",
    "from pytorch_lightning.callbacks import ModelCheckpoint\n",
    "from pytorch_lightning.callbacks import EarlyStopping\n",
    "from pytorch_lightning.loggers import TensorBoardLogger\n",
    "import constants\n",
    "\n",
    "torch.set_float32_matmul_precision('high')"
   ]
  },
  {
   "cell_type": "code",
   "execution_count": null,
   "metadata": {
    "ExecuteTime": {
     "end_time": "2023-08-15T08:56:18.320641100Z",
     "start_time": "2023-08-15T08:55:23.786200Z"
    },
    "collapsed": false,
    "jupyter": {
     "outputs_hidden": false
    }
   },
   "outputs": [],
   "source": [
    "from constants import MODEL_SELECTION\n",
    "\n",
    "transforms = [TrackDataElement.augment]\n",
    "dataset_limit = 100 if constants.DESIGN_MODE else None\n",
    "dataset = TrackDataset(constants.TRAINING_DATA_DIR, transforms=transforms, dataset_limit=dataset_limit,disable_data_augmentation=False, lstm_mode=MODEL_SELECTION == ModelType.CNN_LSTM_MODEL)\n",
    "print(len(dataset))"
   ]
  },
  {
   "cell_type": "code",
   "execution_count": null,
   "metadata": {
    "ExecuteTime": {
     "end_time": "2023-08-15T08:56:18.320641100Z",
     "start_time": "2023-08-15T08:56:18.318339700Z"
    },
    "collapsed": false,
    "jupyter": {
     "outputs_hidden": false
    }
   },
   "outputs": [],
   "source": [
    "train_dataset, val_dataset = dataset.split_train_val_data()\n",
    "\n",
    "batch_size = 100\n",
    "train_dataloader = DataLoader(train_dataset, batch_size=batch_size, shuffle=True, num_workers=0)\n",
    "val_dataloader = DataLoader(val_dataset, batch_size=batch_size, num_workers=0)"
   ]
  },
  {
   "cell_type": "code",
   "execution_count": null,
   "metadata": {
    "ExecuteTime": {
     "end_time": "2023-08-15T08:56:19.240478300Z",
     "start_time": "2023-08-15T08:56:18.320641100Z"
    },
    "collapsed": false,
    "jupyter": {
     "outputs_hidden": false
    }
   },
   "outputs": [],
   "source": [
    "import random\n",
    "from matplotlib import pyplot as plt\n",
    "\n",
    "random_index = random.randint(0, len(train_dataset))\n",
    "image_tensor, steering_angle = train_dataset[0]\n",
    "numpy_array = image_tensor.cpu().numpy()\n",
    "if len(numpy_array.shape) == 4:\n",
    "    for i in range(numpy_array.shape[0]):\n",
    "        image = numpy_array[i].transpose(1, 2, 0) + 1\n",
    "        plt.imshow(image)\n",
    "else:\n",
    "    image = numpy_array.transpose(1, 2, 0) + 1\n",
    "    plt.imshow(image)\n",
    "\n",
    "plt.show()\n",
    "print(steering_angle)"
   ]
  },
  {
   "cell_type": "code",
   "execution_count": null,
   "metadata": {
    "ExecuteTime": {
     "end_time": "2023-08-15T08:56:19.466842700Z",
     "start_time": "2023-08-15T08:56:19.234912800Z"
    },
    "collapsed": false,
    "jupyter": {
     "outputs_hidden": false
    }
   },
   "outputs": [],
   "source": [
    "from ai.ai_utils import load_steering_model\n",
    "from constants import MODEL_OUTPUT_DIR, CNN_LSTM_NUMBER_OF_ITEMS, INCREMENTAL_TRAINING\n",
    "from ai.models import resnet_model, simple_model, yolop_model, cnn_lstm_model, resnet_4ch_model\n",
    "\n",
    "constants = reload(constants)\n",
    "\n",
    "if INCREMENTAL_TRAINING:\n",
    "    checkpoint_callback_filename = \"incremental-model-{epoch:02d}-{val_loss:.5f}\"\n",
    "    model = load_steering_model()\n",
    "\n",
    "elif constants.MODEL_SELECTION == ModelType.RESIDUAL_MODEL:\n",
    "    resnet_model = reload(resnet_model)\n",
    "    checkpoint_callback_filename = \"resnet-model-{epoch:02d}-{val_loss:.5f}\"\n",
    "    model = resnet_model.ResidualModel()\n",
    "\n",
    "elif constants.MODEL_SELECTION == ModelType.SIMPLE_MODEL:\n",
    "    simple_model = reload(simple_model)\n",
    "    checkpoint_callback_filename = \"basic-model-{epoch:02d}-{val_loss:.5f}\"\n",
    "    model = simple_model.BasicModel()\n",
    "\n",
    "elif constants.MODEL_SELECTION == ModelType.YOLOP_MODEL:\n",
    "    yolop_model = reload(yolop_model)\n",
    "    checkpoint_callback_filename = \"yolop-model-{epoch:02d}-{val_loss:.5f}\"\n",
    "    model = yolop_model.YolopModel()\n",
    "\n",
    "elif constants.MODEL_SELECTION == ModelType.CNN_LSTM_MODEL:\n",
    "    cnn_lstm_model = reload(cnn_lstm_model)\n",
    "    checkpoint_callback_filename = \"cnn-lstm-model--no_images=\" + str(CNN_LSTM_NUMBER_OF_ITEMS) + \"-{epoch:02d}-{val_loss:.5f}\"\n",
    "    model = cnn_lstm_model.CnnLstmModel()\n",
    "\n",
    "elif constants.MODEL_SELECTION == ModelType.RESIDUAL_4CH_MODEL:\n",
    "    resnet_4ch_model = reload(resnet_4ch_model)\n",
    "    checkpoint_callback_filename = \"resnet_4ch_model-{epoch:02d}-{val_loss:.5f}\"\n",
    "    model = resnet_4ch_model.Residual4ChModel()\n",
    "\n",
    "else:\n",
    "    raise Exception(\"Unknown model type.\")\n",
    "\n",
    "checkpoint_callback = ModelCheckpoint(\n",
    "    dirpath=MODEL_OUTPUT_DIR,  # changed to only ../models/ as it saved one too far out for me\n",
    "    filename=checkpoint_callback_filename,\n",
    "    monitor='val_loss',\n",
    "    verbose=True,\n",
    "    mode='min',\n",
    ")\n",
    "\n",
    "early_stop_callback = EarlyStopping(\n",
    "    monitor='val_loss',\n",
    "    min_delta=0.00,\n",
    "    patience=10,\n",
    "    verbose=False,\n",
    "    mode='min'\n",
    ")\n",
    "\n",
    "logger = TensorBoardLogger(\"tb_logs\", name=constants.MODEL_SELECTION.name)\n",
    "hyperparams = constants.hparams\n",
    "hyperparams['batch_size'] = batch_size\n",
    "hyperparams['learning_rate'] = \"NA\"\n",
    "hyperparams['Notes'] = \"NA\"\n",
    "\n",
    "logger.log_hyperparams(hyperparams)\n",
    "trainer = pl.Trainer(max_epochs=100, logger=logger, callbacks=[checkpoint_callback, early_stop_callback],\n",
    "                     accelerator='gpu')"
   ]
  },
  {
   "cell_type": "code",
   "execution_count": null,
   "metadata": {
    "ExecuteTime": {
     "end_time": "2023-08-15T09:08:44.686339600Z",
     "start_time": "2023-08-15T08:56:19.461271500Z"
    },
    "collapsed": false,
    "jupyter": {
     "outputs_hidden": false
    }
   },
   "outputs": [],
   "source": [
    "if constants.DESIGN_MODE:\n",
    "    print(\"Design mode enabled. Only short training performed.\")\n",
    "\n",
    "trainer.fit(model, train_dataloader, val_dataloader)"
   ]
  },
  {
   "cell_type": "code",
   "execution_count": null,
   "metadata": {
    "ExecuteTime": {
     "end_time": "2023-08-15T09:08:44.728784600Z",
     "start_time": "2023-08-15T09:08:44.687343Z"
    },
    "collapsed": false,
    "jupyter": {
     "outputs_hidden": false
    }
   },
   "outputs": [],
   "source": [
    "from torchsummary import summary\n",
    "\n",
    "summary(model, (3,256,256))"
   ]
  },
  {
   "cell_type": "code",
   "execution_count": null,
   "metadata": {
    "ExecuteTime": {
     "end_time": "2023-08-15T09:08:44.733299800Z",
     "start_time": "2023-08-15T09:08:44.729787500Z"
    },
    "collapsed": false,
    "jupyter": {
     "outputs_hidden": false
    }
   },
   "outputs": [],
   "source": []
  }
 ],
 "metadata": {
  "kernelspec": {
   "display_name": "Python 3",
   "language": "python",
   "name": "python3"
  },
  "language_info": {
   "codemirror_mode": {
    "name": "ipython",
    "version": 3
   },
   "file_extension": ".py",
   "mimetype": "text/x-python",
   "name": "python",
   "nbconvert_exporter": "python",
   "pygments_lexer": "ipython3",
   "version": "3.10.12"
  }
 },
 "nbformat": 4,
 "nbformat_minor": 4
}
