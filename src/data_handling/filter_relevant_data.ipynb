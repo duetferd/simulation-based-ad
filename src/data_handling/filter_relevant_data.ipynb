{
 "cells": [
  {
   "cell_type": "code",
   "execution_count": 1,
   "metadata": {
    "collapsed": true,
    "ExecuteTime": {
     "end_time": "2023-08-14T21:00:44.763036900Z",
     "start_time": "2023-08-14T21:00:44.569534500Z"
    }
   },
   "outputs": [],
   "source": [
    "import os\n",
    "from shutil import copy\n",
    "\n",
    "import numpy as np\n",
    "import pandas as pd"
   ]
  },
  {
   "cell_type": "code",
   "execution_count": 2,
   "outputs": [],
   "source": [
    "FOLDER_PATH = \"data/75k\"\n",
    "NEW_FOLDER_PATH = FOLDER_PATH + \"_balanced2\""
   ],
   "metadata": {
    "collapsed": false,
    "ExecuteTime": {
     "end_time": "2023-08-14T21:00:45.980501Z",
     "start_time": "2023-08-14T21:00:45.974973300Z"
    }
   }
  },
  {
   "cell_type": "code",
   "execution_count": 3,
   "outputs": [
    {
     "data": {
      "text/plain": "           throttle         break  steering_angle  velocity\ncount  75210.000000  75210.000000    75210.000000       0.0\nmean    2414.278141   9389.902885       -0.180175       NaN\nstd     1538.346430   9881.330790        2.876228       NaN\nmin       13.473060      0.000000      -28.368830       NaN\n25%      335.378750      0.000000       -0.000510       NaN\n50%     3442.008000    252.002200       -0.000069       NaN\n75%     3600.000000  20000.000000        0.000395       NaN\nmax     3600.000000  20000.000000       27.793550       NaN",
      "text/html": "<div>\n<style scoped>\n    .dataframe tbody tr th:only-of-type {\n        vertical-align: middle;\n    }\n\n    .dataframe tbody tr th {\n        vertical-align: top;\n    }\n\n    .dataframe thead th {\n        text-align: right;\n    }\n</style>\n<table border=\"1\" class=\"dataframe\">\n  <thead>\n    <tr style=\"text-align: right;\">\n      <th></th>\n      <th>throttle</th>\n      <th>break</th>\n      <th>steering_angle</th>\n      <th>velocity</th>\n    </tr>\n  </thead>\n  <tbody>\n    <tr>\n      <th>count</th>\n      <td>75210.000000</td>\n      <td>75210.000000</td>\n      <td>75210.000000</td>\n      <td>0.0</td>\n    </tr>\n    <tr>\n      <th>mean</th>\n      <td>2414.278141</td>\n      <td>9389.902885</td>\n      <td>-0.180175</td>\n      <td>NaN</td>\n    </tr>\n    <tr>\n      <th>std</th>\n      <td>1538.346430</td>\n      <td>9881.330790</td>\n      <td>2.876228</td>\n      <td>NaN</td>\n    </tr>\n    <tr>\n      <th>min</th>\n      <td>13.473060</td>\n      <td>0.000000</td>\n      <td>-28.368830</td>\n      <td>NaN</td>\n    </tr>\n    <tr>\n      <th>25%</th>\n      <td>335.378750</td>\n      <td>0.000000</td>\n      <td>-0.000510</td>\n      <td>NaN</td>\n    </tr>\n    <tr>\n      <th>50%</th>\n      <td>3442.008000</td>\n      <td>252.002200</td>\n      <td>-0.000069</td>\n      <td>NaN</td>\n    </tr>\n    <tr>\n      <th>75%</th>\n      <td>3600.000000</td>\n      <td>20000.000000</td>\n      <td>0.000395</td>\n      <td>NaN</td>\n    </tr>\n    <tr>\n      <th>max</th>\n      <td>3600.000000</td>\n      <td>20000.000000</td>\n      <td>27.793550</td>\n      <td>NaN</td>\n    </tr>\n  </tbody>\n</table>\n</div>"
     },
     "execution_count": 3,
     "metadata": {},
     "output_type": "execute_result"
    }
   ],
   "source": [
    "root_path = os.path.dirname(os.path.dirname(os.getcwd()))\n",
    "data_folder_path = os.path.join(root_path, FOLDER_PATH)\n",
    "vehicle_data_file_path = os.path.join(data_folder_path, \"VehicleData.txt\")\n",
    "\n",
    "df = pd.read_csv(vehicle_data_file_path, sep=\" \", header=None,\n",
    "                 names=[\"image_path\", \"throttle\", \"break\", \"steering_angle\", \"velocity\"])\n",
    "df.describe()"
   ],
   "metadata": {
    "collapsed": false,
    "ExecuteTime": {
     "end_time": "2023-08-14T21:00:46.678557700Z",
     "start_time": "2023-08-14T21:00:46.618552500Z"
    }
   }
  },
  {
   "cell_type": "code",
   "execution_count": 4,
   "outputs": [
    {
     "data": {
      "text/plain": "<Figure size 640x480 with 1 Axes>",
      "image/png": "[encoded data removed]"
     },
     "metadata": {},
     "output_type": "display_data"
    }
   ],
   "source": [
    "import matplotlib.pyplot as plt\n",
    "\n",
    "plt.hist(df[\"steering_angle\"], bins=100)\n",
    "plt.title(\"Steering Angle Distribution\")\n",
    "plt.xlabel(\"Steering Angle\")\n",
    "plt.ylabel(\"Frequency\")\n",
    "plt.show()"
   ],
   "metadata": {
    "collapsed": false,
    "ExecuteTime": {
     "end_time": "2023-08-14T21:00:47.831929500Z",
     "start_time": "2023-08-14T21:00:47.538549700Z"
    }
   }
  },
  {
   "cell_type": "markdown",
   "source": [
    "# Filtering"
   ],
   "metadata": {
    "collapsed": false
   }
  },
  {
   "cell_type": "markdown",
   "source": [
    "# Balance Data"
   ],
   "metadata": {
    "collapsed": false
   }
  },
  {
   "cell_type": "code",
   "execution_count": 5,
   "outputs": [],
   "source": [
    "df_only_turns = df[abs(df.steering_angle) >= 1]\n",
    "df_no_turns = df[abs(df.steering_angle) < 1]\n",
    "\n",
    "number_of_turn_data = len(df_only_turns)\n",
    "\n",
    "df_partial_no_turns_data = df_no_turns.sample(n=1000, replace=False)\n",
    "balanced_df = pd.concat((df_only_turns, df_partial_no_turns_data))\n",
    "balanced_df = balanced_df.sort_index()\n",
    "final_df = balanced_df"
   ],
   "metadata": {
    "collapsed": false,
    "ExecuteTime": {
     "end_time": "2023-08-14T21:00:49.889785600Z",
     "start_time": "2023-08-14T21:00:49.882822100Z"
    }
   }
  },
  {
   "cell_type": "markdown",
   "source": [
    "## Only turns"
   ],
   "metadata": {
    "collapsed": false
   }
  },
  {
   "cell_type": "code",
   "execution_count": 46,
   "outputs": [],
   "source": [
    "final_df = df\n",
    "final_df = final_df[final_df.steering_angle <= 5]\n",
    "final_df = final_df[final_df.steering_angle >= -5]"
   ],
   "metadata": {
    "collapsed": false,
    "ExecuteTime": {
     "end_time": "2023-08-14T09:08:21.800189500Z",
     "start_time": "2023-08-14T09:08:21.796004400Z"
    }
   }
  },
  {
   "cell_type": "markdown",
   "source": [
    "## Final Data"
   ],
   "metadata": {
    "collapsed": false
   }
  },
  {
   "cell_type": "code",
   "execution_count": 6,
   "outputs": [
    {
     "data": {
      "text/plain": "<Figure size 640x480 with 1 Axes>",
      "image/png": "[encoded data removed]"
     },
     "metadata": {},
     "output_type": "display_data"
    }
   ],
   "source": [
    "plt.hist(final_df[\"steering_angle\"], bins=100)\n",
    "plt.title(\"Steering Angle Distribution\")\n",
    "plt.xlabel(\"Steering Angle\")\n",
    "plt.ylabel(\"Frequency\")\n",
    "plt.show()"
   ],
   "metadata": {
    "collapsed": false,
    "ExecuteTime": {
     "end_time": "2023-08-14T21:00:52.425874600Z",
     "start_time": "2023-08-14T21:00:52.337953300Z"
    }
   }
  },
  {
   "cell_type": "markdown",
   "source": [
    "# Update DF"
   ],
   "metadata": {
    "collapsed": false
   }
  },
  {
   "cell_type": "code",
   "execution_count": 7,
   "outputs": [],
   "source": [
    "df = final_df"
   ],
   "metadata": {
    "collapsed": false,
    "ExecuteTime": {
     "end_time": "2023-08-14T21:00:55.255174800Z",
     "start_time": "2023-08-14T21:00:55.247973Z"
    }
   }
  },
  {
   "cell_type": "code",
   "execution_count": 8,
   "outputs": [
    {
     "data": {
      "text/plain": "          throttle         break  steering_angle  velocity\ncount  6048.000000   6048.000000     6048.000000       0.0\nmean    990.217907   1830.209280       -2.231308       NaN\nstd    1249.288704   5450.875214        9.910680       NaN\nmin      13.474770      0.000000      -28.368830       NaN\n25%      67.364430      0.000000       -7.272116       NaN\n50%     440.072800      0.000000       -1.422471       NaN\n75%    1243.180250      0.000000        2.721885       NaN\nmax    3600.000000  20000.000000       27.793550       NaN",
      "text/html": "<div>\n<style scoped>\n    .dataframe tbody tr th:only-of-type {\n        vertical-align: middle;\n    }\n\n    .dataframe tbody tr th {\n        vertical-align: top;\n    }\n\n    .dataframe thead th {\n        text-align: right;\n    }\n</style>\n<table border=\"1\" class=\"dataframe\">\n  <thead>\n    <tr style=\"text-align: right;\">\n      <th></th>\n      <th>throttle</th>\n      <th>break</th>\n      <th>steering_angle</th>\n      <th>velocity</th>\n    </tr>\n  </thead>\n  <tbody>\n    <tr>\n      <th>count</th>\n      <td>6048.000000</td>\n      <td>6048.000000</td>\n      <td>6048.000000</td>\n      <td>0.0</td>\n    </tr>\n    <tr>\n      <th>mean</th>\n      <td>990.217907</td>\n      <td>1830.209280</td>\n      <td>-2.231308</td>\n      <td>NaN</td>\n    </tr>\n    <tr>\n      <th>std</th>\n      <td>1249.288704</td>\n      <td>5450.875214</td>\n      <td>9.910680</td>\n      <td>NaN</td>\n    </tr>\n    <tr>\n      <th>min</th>\n      <td>13.474770</td>\n      <td>0.000000</td>\n      <td>-28.368830</td>\n      <td>NaN</td>\n    </tr>\n    <tr>\n      <th>25%</th>\n      <td>67.364430</td>\n      <td>0.000000</td>\n      <td>-7.272116</td>\n      <td>NaN</td>\n    </tr>\n    <tr>\n      <th>50%</th>\n      <td>440.072800</td>\n      <td>0.000000</td>\n      <td>-1.422471</td>\n      <td>NaN</td>\n    </tr>\n    <tr>\n      <th>75%</th>\n      <td>1243.180250</td>\n      <td>0.000000</td>\n      <td>2.721885</td>\n      <td>NaN</td>\n    </tr>\n    <tr>\n      <th>max</th>\n      <td>3600.000000</td>\n      <td>20000.000000</td>\n      <td>27.793550</td>\n      <td>NaN</td>\n    </tr>\n  </tbody>\n</table>\n</div>"
     },
     "execution_count": 8,
     "metadata": {},
     "output_type": "execute_result"
    }
   ],
   "source": [
    "df.describe()"
   ],
   "metadata": {
    "collapsed": false,
    "ExecuteTime": {
     "end_time": "2023-08-14T21:00:55.624066700Z",
     "start_time": "2023-08-14T21:00:55.614750600Z"
    }
   }
  },
  {
   "cell_type": "markdown",
   "source": [
    "# Save Data"
   ],
   "metadata": {
    "collapsed": false
   }
  },
  {
   "cell_type": "code",
   "execution_count": 9,
   "outputs": [],
   "source": [
    "new_folder_path = os.path.join(root_path, NEW_FOLDER_PATH)\n",
    "new_vehicle_data_file_path = os.path.join(new_folder_path, \"VehicleData.txt\")\n",
    "new_image_folder_path = os.path.join(new_folder_path, \"IMG\")\n",
    "\n",
    "os.makedirs(new_folder_path)\n",
    "os.makedirs(new_image_folder_path)"
   ],
   "metadata": {
    "collapsed": false,
    "ExecuteTime": {
     "end_time": "2023-08-14T21:00:56.719825Z",
     "start_time": "2023-08-14T21:00:56.714937Z"
    }
   }
  },
  {
   "cell_type": "code",
   "execution_count": 10,
   "outputs": [],
   "source": [
    "with open(new_vehicle_data_file_path, \"w+\") as file:\n",
    "    np.savetxt(file, final_df.values, fmt=\"%s\")\n",
    "\n",
    "for index, row in final_df.iterrows():\n",
    "    image_path = row.image_path[1:]\n",
    "    source_image_folder_path = os.path.join(data_folder_path, image_path)  # image_path starts with '/'\n",
    "    destination_image_folder_path = os.path.join(new_folder_path, image_path)\n",
    "    if os.path.exists(source_image_folder_path):\n",
    "        copy(source_image_folder_path, destination_image_folder_path)"
   ],
   "metadata": {
    "collapsed": false,
    "ExecuteTime": {
     "end_time": "2023-08-14T21:01:02.211555800Z",
     "start_time": "2023-08-14T21:00:57.414975300Z"
    }
   }
  },
  {
   "cell_type": "code",
   "execution_count": 28,
   "outputs": [],
   "source": [],
   "metadata": {
    "collapsed": false,
    "ExecuteTime": {
     "end_time": "2023-08-14T07:36:18.023567300Z",
     "start_time": "2023-08-14T07:36:18.018568900Z"
    }
   }
  }
 ],
 "metadata": {
  "kernelspec": {
   "display_name": "Python 3",
   "language": "python",
   "name": "python3"
  },
  "language_info": {
   "codemirror_mode": {
    "name": "ipython",
    "version": 2
   },
   "file_extension": ".py",
   "mimetype": "text/x-python",
   "name": "python",
   "nbconvert_exporter": "python",
   "pygments_lexer": "ipython2",
   "version": "2.7.6"
  }
 },
 "nbformat": 4,
 "nbformat_minor": 0
}
