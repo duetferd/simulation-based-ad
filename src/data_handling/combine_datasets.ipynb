{
 "cells": [
  {
   "cell_type": "code",
   "execution_count": 1,
   "metadata": {
    "collapsed": true,
    "ExecuteTime": {
     "end_time": "2023-08-15T08:54:18.274387600Z",
     "start_time": "2023-08-15T08:54:18.075913600Z"
    }
   },
   "outputs": [],
   "source": [
    "import os\n",
    "from shutil import copy\n",
    "\n",
    "import numpy as np\n",
    "import pandas as pd"
   ]
  },
  {
   "cell_type": "code",
   "execution_count": 2,
   "outputs": [],
   "source": [
    "DATASET_FOLDERS = [\"data/75k_balanced\", \"data/extra_turn_data\", \"data/too_far_left\", \"data/too_far_right\"]\n",
    "DATASET_STEERING_BIASES = [0, 0, 0.2, -0.2]\n",
    "NEW_FOLDER_PATH = \"data/combined_datasets\""
   ],
   "metadata": {
    "collapsed": false,
    "ExecuteTime": {
     "end_time": "2023-08-15T08:54:18.278269900Z",
     "start_time": "2023-08-15T08:54:18.275390700Z"
    }
   }
  },
  {
   "cell_type": "code",
   "execution_count": 3,
   "outputs": [],
   "source": [
    "root_path = os.path.dirname(os.path.dirname(os.getcwd()))\n",
    "\n",
    "new_folder_path = os.path.join(root_path, NEW_FOLDER_PATH)\n",
    "new_vehicle_data_file_path = os.path.join(new_folder_path, \"VehicleData.txt\")\n",
    "new_image_folder_path = os.path.join(new_folder_path, \"IMG\")\n",
    "\n",
    "os.makedirs(new_folder_path)\n",
    "os.makedirs(new_image_folder_path)"
   ],
   "metadata": {
    "collapsed": false,
    "ExecuteTime": {
     "end_time": "2023-08-15T08:54:18.284469500Z",
     "start_time": "2023-08-15T08:54:18.277266300Z"
    }
   }
  },
  {
   "cell_type": "code",
   "execution_count": 4,
   "outputs": [],
   "source": [
    "combined_data = []\n",
    "\n",
    "current_index = 0\n",
    "for dataset_index, folder_path in enumerate(DATASET_FOLDERS):\n",
    "    data_folder_path = os.path.join(root_path, folder_path)\n",
    "    vehicle_data_file_path = os.path.join(data_folder_path, \"VehicleData.txt\")\n",
    "\n",
    "    current_df = pd.read_csv(vehicle_data_file_path, sep=\" \", header=None,\n",
    "                             names=[\"image_path\", \"throttle\", \"break\", \"steering_angle\", \"velocity\"])\n",
    "\n",
    "    current_df[\"steering_angle\"] = (2 * (current_df[\"steering_angle\"] - current_df[\"steering_angle\"].min()) / (\n",
    "            current_df[\"steering_angle\"].max() - current_df[\"steering_angle\"].min())) - 1\n",
    "    current_df[\"steering_angle\"] += DATASET_STEERING_BIASES[dataset_index]\n",
    "    current_df[\"steering_angle\"] = current_df[\"steering_angle\"].clip(lower=-1, upper=1)\n",
    "\n",
    "    new_image_paths = []\n",
    "    indices_to_skip = []\n",
    "    for index, row in current_df.iterrows():\n",
    "        old_image_path = row.image_path[1:]\n",
    "        source_image_folder_path = os.path.join(data_folder_path, old_image_path)  # image_path starts with '/'\n",
    "        if not os.path.exists(source_image_folder_path):\n",
    "            indices_to_skip.append(index)\n",
    "            continue\n",
    "\n",
    "        new_image_path = os.path.join(\"IMG\", f\"CapturedImage_{current_index}.jpg\")\n",
    "        new_image_paths.append(f\"/{new_image_path}\")\n",
    "        current_index += 1\n",
    "        destination_image_folder_path = os.path.join(new_folder_path, new_image_path)\n",
    "        copy(source_image_folder_path, destination_image_folder_path)\n",
    "\n",
    "    current_df = current_df.drop(indices_to_skip)\n",
    "    current_df[\"image_path\"] = new_image_paths\n",
    "\n",
    "    combined_data.append(current_df)"
   ],
   "metadata": {
    "collapsed": false,
    "ExecuteTime": {
     "end_time": "2023-08-15T08:54:26.376739600Z",
     "start_time": "2023-08-15T08:54:18.282069500Z"
    }
   }
  },
  {
   "cell_type": "code",
   "execution_count": 5,
   "outputs": [],
   "source": [
    "df = pd.concat(combined_data)\n",
    "with open(new_vehicle_data_file_path, \"w+\") as file:\n",
    "    np.savetxt(file, df.values, fmt=\"%s\")"
   ],
   "metadata": {
    "collapsed": false,
    "ExecuteTime": {
     "end_time": "2023-08-15T08:54:26.426203200Z",
     "start_time": "2023-08-15T08:54:26.377742Z"
    }
   }
  },
  {
   "cell_type": "code",
   "execution_count": 6,
   "outputs": [
    {
     "data": {
      "text/plain": "<Figure size 640x480 with 1 Axes>",
      "image/png": "[encoded data removed]"
     },
     "metadata": {},
     "output_type": "display_data"
    }
   ],
   "source": [
    "import matplotlib.pyplot as plt\n",
    "\n",
    "plt.hist(df[\"steering_angle\"], bins=100)\n",
    "plt.title(\"Steering Angle Distribution\")\n",
    "plt.xlabel(\"Steering Angle\")\n",
    "plt.ylabel(\"Frequency\")\n",
    "plt.show()"
   ],
   "metadata": {
    "collapsed": false,
    "ExecuteTime": {
     "end_time": "2023-08-15T08:54:26.762169400Z",
     "start_time": "2023-08-15T08:54:26.426705Z"
    }
   }
  },
  {
   "cell_type": "code",
   "execution_count": 7,
   "outputs": [
    {
     "data": {
      "text/plain": "           throttle         break  steering_angle     velocity\ncount  23014.000000  23014.000000    23014.000000  2966.000000\nmean    1798.958809   6562.826155       -0.025149    30.574967\nstd     1642.466030   9279.888017        0.218109     1.182359\nmin        0.054902      0.000000       -1.000000    29.359194\n25%       42.329118      0.000000        0.004111    30.160274\n50%     1435.338500      0.000000        0.010239    30.370341\n75%     3599.998000  20000.000000        0.010264    30.631230\nmax     3600.000000  20000.000000        1.000000    40.940531",
      "text/html": "<div>\n<style scoped>\n    .dataframe tbody tr th:only-of-type {\n        vertical-align: middle;\n    }\n\n    .dataframe tbody tr th {\n        vertical-align: top;\n    }\n\n    .dataframe thead th {\n        text-align: right;\n    }\n</style>\n<table border=\"1\" class=\"dataframe\">\n  <thead>\n    <tr style=\"text-align: right;\">\n      <th></th>\n      <th>throttle</th>\n      <th>break</th>\n      <th>steering_angle</th>\n      <th>velocity</th>\n    </tr>\n  </thead>\n  <tbody>\n    <tr>\n      <th>count</th>\n      <td>23014.000000</td>\n      <td>23014.000000</td>\n      <td>23014.000000</td>\n      <td>2966.000000</td>\n    </tr>\n    <tr>\n      <th>mean</th>\n      <td>1798.958809</td>\n      <td>6562.826155</td>\n      <td>-0.025149</td>\n      <td>30.574967</td>\n    </tr>\n    <tr>\n      <th>std</th>\n      <td>1642.466030</td>\n      <td>9279.888017</td>\n      <td>0.218109</td>\n      <td>1.182359</td>\n    </tr>\n    <tr>\n      <th>min</th>\n      <td>0.054902</td>\n      <td>0.000000</td>\n      <td>-1.000000</td>\n      <td>29.359194</td>\n    </tr>\n    <tr>\n      <th>25%</th>\n      <td>42.329118</td>\n      <td>0.000000</td>\n      <td>0.004111</td>\n      <td>30.160274</td>\n    </tr>\n    <tr>\n      <th>50%</th>\n      <td>1435.338500</td>\n      <td>0.000000</td>\n      <td>0.010239</td>\n      <td>30.370341</td>\n    </tr>\n    <tr>\n      <th>75%</th>\n      <td>3599.998000</td>\n      <td>20000.000000</td>\n      <td>0.010264</td>\n      <td>30.631230</td>\n    </tr>\n    <tr>\n      <th>max</th>\n      <td>3600.000000</td>\n      <td>20000.000000</td>\n      <td>1.000000</td>\n      <td>40.940531</td>\n    </tr>\n  </tbody>\n</table>\n</div>"
     },
     "execution_count": 7,
     "metadata": {},
     "output_type": "execute_result"
    }
   ],
   "source": [
    "df.describe()"
   ],
   "metadata": {
    "collapsed": false,
    "ExecuteTime": {
     "end_time": "2023-08-15T08:54:26.763168700Z",
     "start_time": "2023-08-15T08:54:26.740955900Z"
    }
   }
  }
 ],
 "metadata": {
  "kernelspec": {
   "display_name": "Python 3",
   "language": "python",
   "name": "python3"
  },
  "language_info": {
   "codemirror_mode": {
    "name": "ipython",
    "version": 2
   },
   "file_extension": ".py",
   "mimetype": "text/x-python",
   "name": "python",
   "nbconvert_exporter": "python",
   "pygments_lexer": "ipython2",
   "version": "2.7.6"
  }
 },
 "nbformat": 4,
 "nbformat_minor": 0
}
